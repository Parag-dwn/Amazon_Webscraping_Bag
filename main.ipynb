{
 "cells": [
  {
   "attachments": {},
   "cell_type": "markdown",
   "metadata": {},
   "source": [
    "## Importing Dependencies"
   ]
  },
  {
   "cell_type": "code",
   "execution_count": 58,
   "metadata": {},
   "outputs": [],
   "source": [
    "from selenium import webdriver\n",
    "from bs4 import BeautifulSoup\n",
    "import re\n",
    "import pandas as pd\n",
    "import json\n",
    "chrom_driv=\"D:\\downloads\\chromedriver_win32\\chromedriver.exe\""
   ]
  },
  {
   "cell_type": "code",
   "execution_count": 2,
   "metadata": {},
   "outputs": [
    {
     "name": "stderr",
     "output_type": "stream",
     "text": [
      "C:\\Users\\lenovo\\AppData\\Local\\Temp\\ipykernel_16964\\2210004899.py:2: DeprecationWarning: executable_path has been deprecated, please pass in a Service object\n",
      "  driver = webdriver.Chrome(chrom_driv)\n"
     ]
    }
   ],
   "source": [
    "url=r\"https://www.amazon.in/s?k=bags&crid=2M096C61O4MLT&qid=1653308124&sprefix=ba%2Caps%2C283&ref=sr_pg_1\"\n",
    "driver = webdriver.Chrome(chrom_driv)\n",
    "driver.get(url)\n",
    "get_url=driver.current_url\n",
    "if get_url==url:\n",
    "    page_source=driver.page_source"
   ]
  },
  {
   "cell_type": "code",
   "execution_count": 3,
   "metadata": {},
   "outputs": [
    {
     "data": {
      "text/plain": [
       "bs4.BeautifulSoup"
      ]
     },
     "execution_count": 3,
     "metadata": {},
     "output_type": "execute_result"
    }
   ],
   "source": [
    "soup=BeautifulSoup(page_source,features=\"html.parser\")\n",
    "type(soup)"
   ]
  },
  {
   "attachments": {},
   "cell_type": "markdown",
   "metadata": {},
   "source": [
    "## Part1:"
   ]
  },
  {
   "cell_type": "code",
   "execution_count": 4,
   "metadata": {},
   "outputs": [],
   "source": [
    "matches=soup.find_all('div',attrs={'class':\"s-card-container s-overflow-hidden aok-relative puis-include-content-margin puis s-latency-cf-section s-card-border\"})"
   ]
  },
  {
   "cell_type": "code",
   "execution_count": 26,
   "metadata": {},
   "outputs": [
    {
     "name": "stdout",
     "output_type": "stream",
     "text": [
      "NAME : American Tourister 32 Ltrs Black Casual Backpack (AMT FIZZ SCH BAG 02 - BLACK)\n",
      "rating : 51,380\n",
      "No of reviews:  51,380\n",
      "Price: ₹1,199\n",
      "product_url: https://www.amazon.com/American-Tourister-AMT-SCH-02/dp/B07CJCGM1M/ref=sr_1_3?crid=2M096C61O4MLT&keywords=bags&qid=1675437123&sprefix=ba%2Caps%2C283&sr=8-3\n"
     ]
    }
   ],
   "source": [
    "match=matches[2]\n",
    "atag=match.h2.a\n",
    "product_name=atag.text.strip()\n",
    "print(\"NAME : \"+product_name)\n",
    "rating=match.find(class_=\"a-size-base\").text.strip()\n",
    "print(\"rating : \"+rating)\n",
    "review=match.find(class_=\"a-size-base s-underline-text\").text\n",
    "print(\"No of reviews: \",review)\n",
    "price=match.find(class_=\"a-offscreen\").text.strip()\n",
    "print(\"Price: \"+ price)\n",
    "\n",
    "prod_url= 'https://www.amazon.com'+atag.get('href')\n",
    "print(\"product_url: \"+prod_url)"
   ]
  },
  {
   "cell_type": "code",
   "execution_count": 28,
   "metadata": {},
   "outputs": [],
   "source": [
    "def extract(match):\n",
    "    atag=match.h2.a\n",
    "    product_name=atag.text.strip()\n",
    "    prod_url='https://www.amazon.com'+atag.get('href')\n",
    "    try:\n",
    "        rating=match.i.text\n",
    "        review=match.find(class_=\"a-size-base s-underline-text\").text\n",
    "    except AttributeError:\n",
    "        return\n",
    "    try:\n",
    "        price=match.find(class_=\"a-offscreen\").text.strip()\n",
    "    except AttributeError:\n",
    "        return\n",
    "    res=(product_name,prod_url,price,rating,review)\n",
    "    return res\n",
    "        \n",
    "\n",
    "    "
   ]
  },
  {
   "cell_type": "code",
   "execution_count": 29,
   "metadata": {},
   "outputs": [
    {
     "data": {
      "text/plain": [
       "22"
      ]
     },
     "execution_count": 29,
     "metadata": {},
     "output_type": "execute_result"
    }
   ],
   "source": [
    "records=[]\n",
    "for match in matches:\n",
    "    record=extract(match)\n",
    "    if record:\n",
    "        records.append(record)\n",
    "    \n",
    "len(records)"
   ]
  },
  {
   "cell_type": "code",
   "execution_count": 30,
   "metadata": {},
   "outputs": [
    {
     "data": {
      "text/plain": [
       "('URBAN TRIBE Havana 15.6\" inch Laptop Backpack for Men and Women | 27L Office/Work/Casual Bag | Water Repellent | Black',\n",
       " 'https://www.amazon.com/sspa/click?ie=UTF8&spc=MTozNzUzMzAwODEzODI5ODQ4OjE2NzU0MzcxMjM6c3BfYXRmOjIwMTA0MTQwMjYzNjk4OjowOjo&url=%2FUrban-Tribe-Laptop-Backpack-Havana%2Fdp%2FB01LXNNFDF%2Fref%3Dsr_1_1_sspa%3Fcrid%3D2M096C61O4MLT%26keywords%3Dbags%26qid%3D1675437123%26sprefix%3Dba%252Caps%252C283%26sr%3D8-1-spons%26sp_csd%3Dd2lkZ2V0TmFtZT1zcF9hdGY%26psc%3D1%26smid%3DA385M0TPSNV7VS',\n",
       " '₹1,169',\n",
       " '3.9 out of 5 stars',\n",
       " '684')"
      ]
     },
     "execution_count": 30,
     "metadata": {},
     "output_type": "execute_result"
    }
   ],
   "source": [
    "records[0]"
   ]
  },
  {
   "cell_type": "code",
   "execution_count": 10,
   "metadata": {},
   "outputs": [
    {
     "name": "stderr",
     "output_type": "stream",
     "text": [
      "C:\\Users\\lenovo\\AppData\\Local\\Temp\\ipykernel_16964\\1341365552.py:4: DeprecationWarning: executable_path has been deprecated, please pass in a Service object\n",
      "  driver = webdriver.Chrome(chrom_driv)\n"
     ]
    }
   ],
   "source": [
    "for pg_no in range(1,6):\n",
    "    base=\"https://www.amazon.in/s?k=bags&page={}&crid=2M096C61O4MLT&qid=1675415719&sprefix=ba%2Caps%2C283&ref=sr_pg_1\"\n",
    "    url=base.format(pg_no)\n",
    "    driver = webdriver.Chrome(chrom_driv)\n",
    "    driver.get(url)\n",
    "    driver.close()\n",
    "\n",
    "    "
   ]
  },
  {
   "attachments": {},
   "cell_type": "markdown",
   "metadata": {},
   "source": [
    "### Part2:\n"
   ]
  },
  {
   "cell_type": "code",
   "execution_count": 51,
   "metadata": {},
   "outputs": [
    {
     "data": {
      "text/plain": [
       "bs4.BeautifulSoup"
      ]
     },
     "execution_count": 51,
     "metadata": {},
     "output_type": "execute_result"
    }
   ],
   "source": [
    "soup2=BeautifulSoup(page_source1,features=\"html.parser\")\n",
    "type(soup2)"
   ]
  },
  {
   "cell_type": "code",
   "execution_count": 63,
   "metadata": {},
   "outputs": [],
   "source": [
    "#soup.prettify()"
   ]
  },
  {
   "cell_type": "code",
   "execution_count": 45,
   "metadata": {},
   "outputs": [],
   "source": [
    "def extract_part2(prod):\n",
    "    driver1 = webdriver.Chrome(chrom_driv)\n",
    "    #driver.implicitly_wait(2)\n",
    "    driver1.get(prod_url)\n",
    "    page_source1=driver1.page_source\n",
    "    soup2=BeautifulSoup(page_source1,features=\"html.parser\")\n",
    "    details=soup2.find('div',{'id':\"featurebullets_feature_div\"}).text\n",
    "    print(details)\n",
    "    try: \n",
    "        product_descp=soup2.find_all('td',attrs={'class':'apm-top'})\n",
    "        product_description=\"\"\n",
    "        for prod in product_descp:\n",
    "            product_description+=prod.find('h4').text.strip()\n",
    "    except AttributeError:\n",
    "        product_description=details\n",
    "    try:\n",
    "        \n",
    "        product_details=soup2.find('ul',attrs={'class':'a-unordered-list a-nostyle a-vertical a-spacing-none detail-bullet-list'})\n",
    "        product=product_details.find_all('span',attrs={'class':'a-list-item'})\n",
    "        count_real=0\n",
    "        manufacturer=\"\"\n",
    "        asin=\"\"\n",
    "        for i in product:\n",
    "    #print(i.text.strip())\n",
    "            if  'Manufacturer' in  i.text.strip():\n",
    "                if count_real==1:\n",
    "                    manu=i.text.strip().split(':')[-1]\n",
    "                    manufacturer=' '.join(manu.split()[1:])\n",
    "                count_real+=1 \n",
    "            if 'ASIN' in i.text.strip():\n",
    "                asin=i.text.strip().split(':')[-1]\n",
    "                asin=asin.split()[1:][0]\n",
    "                \n",
    "    except AttributeError:\n",
    "        print(\"details fail\")\n",
    "        return\n",
    "    \n",
    "    res=(details,product_description,manufacturer,asin)\n",
    "    driver1.close()\n",
    "    return res\n",
    "    \n",
    "    \n",
    "    \n",
    "    "
   ]
  },
  {
   "cell_type": "code",
   "execution_count": 46,
   "metadata": {},
   "outputs": [
    {
     "name": "stderr",
     "output_type": "stream",
     "text": [
      "C:\\Users\\lenovo\\AppData\\Local\\Temp\\ipykernel_16964\\3221645102.py:2: DeprecationWarning: executable_path has been deprecated, please pass in a Service object\n",
      "  driver1 = webdriver.Chrome(chrom_driv)\n"
     ]
    },
    {
     "name": "stdout",
     "output_type": "stream",
     "text": [
      "\n",
      "  \n",
      " This fits your .\n",
      "     \n",
      "  Make sure this fits by entering your model number. \n",
      " \n",
      " 30L Capacity: The Backpack has a padded laptop compartment that can fit 15.6 inch laptop. It can also accommodate essentials such as a Lunch box, Charger, Tablet, Books, Power Bank, Wallet, and Sunglass.    Multi-Level Organizer: The backpack has a front zipper pocket for the ID card, Sanitizer, House keys, Pen. First compartment with pockets for the earphones, pens, notebook, Fitness Band. Spacious second compartment for all your electronics.    Ergonomic Design: Thick cushioning around the shoulders and on the back panel makes the backpack super light and comfortable on the move. “S” Shaped shoulder strap distribute the weight of the backpack across your upper body.    Made In India: Wesley Business Casual Backpack is fully manufactured in India and pass through stringent quality tests and checks    1 Year Warranty: The Wesley Business casual backpack comes with 1 year of warranty    Water Resistant Material: Advanced IPX4 coating on the material ensures resistance to water entering from any direction.    \n",
      " \n",
      "details fail\n"
     ]
    }
   ],
   "source": [
    "prod_url=records[3][1]\n",
    "rec=extract_part2(prod_url)\n",
    "\n"
   ]
  },
  {
   "cell_type": "code",
   "execution_count": 44,
   "metadata": {},
   "outputs": [],
   "source": [
    "rec"
   ]
  },
  {
   "cell_type": "code",
   "execution_count": 50,
   "metadata": {},
   "outputs": [],
   "source": [
    "data={\n",
    "        'Product url':[],\n",
    "        'Prodcut name': [],\n",
    "        'product Price': [],\n",
    "        'Rating': [],\n",
    "        'Number of reviews':[],\n",
    "\n",
    "            \n",
    "    }"
   ]
  },
  {
   "attachments": {},
   "cell_type": "markdown",
   "metadata": {},
   "source": [
    "### Exctacting details of the product up to 20 page"
   ]
  },
  {
   "cell_type": "code",
   "execution_count": 51,
   "metadata": {},
   "outputs": [
    {
     "name": "stderr",
     "output_type": "stream",
     "text": [
      "C:\\Users\\lenovo\\AppData\\Local\\Temp\\ipykernel_16964\\3894380735.py:6: DeprecationWarning: executable_path has been deprecated, please pass in a Service object\n",
      "  driver = webdriver.Chrome(chrom_driv)\n"
     ]
    }
   ],
   "source": [
    "def main():\n",
    "    base=\"https://www.amazon.in/s?k=bags&page={}&crid=2M096C61O4MLT&qid=1675415719&sprefix=ba%2Caps%2C283&ref=sr_pg_1\"\n",
    "    \n",
    "    for i in range(1,21):\n",
    "        records=[]\n",
    "        driver = webdriver.Chrome(chrom_driv)\n",
    "        driver.implicitly_wait(8)\n",
    "        url=base.format(i)\n",
    "        driver.get(url)\n",
    "        soup=BeautifulSoup(page_source,features=\"html.parser\")\n",
    "        matches=soup.find_all('div',attrs={'class':\"s-card-container s-overflow-hidden aok-relative puis-include-content-margin puis s-latency-cf-section s-card-border\"})\n",
    "        for match in matches:\n",
    "            rec1=extract(match)\n",
    "            if rec1 :\n",
    "                data['Prodcut name'].append(rec1[0])\n",
    "                data['Product url'].append(rec1[1])\n",
    "                data['product Price'].append(rec1[2])\n",
    "                data['Rating'].append(rec1[3])\n",
    "                data['Number of reviews'].append(rec1[4])\n",
    "main()\n",
    "             \n",
    "driver.quit()\n",
    "df=pd.DataFrame(data)            \n",
    "                \n",
    "        "
   ]
  },
  {
   "cell_type": "code",
   "execution_count": 54,
   "metadata": {},
   "outputs": [],
   "source": [
    "df.to_csv('output.csv')"
   ]
  },
  {
   "cell_type": "code",
   "execution_count": 57,
   "metadata": {},
   "outputs": [
    {
     "data": {
      "text/html": [
       "<div>\n",
       "<style scoped>\n",
       "    .dataframe tbody tr th:only-of-type {\n",
       "        vertical-align: middle;\n",
       "    }\n",
       "\n",
       "    .dataframe tbody tr th {\n",
       "        vertical-align: top;\n",
       "    }\n",
       "\n",
       "    .dataframe thead th {\n",
       "        text-align: right;\n",
       "    }\n",
       "</style>\n",
       "<table border=\"1\" class=\"dataframe\">\n",
       "  <thead>\n",
       "    <tr style=\"text-align: right;\">\n",
       "      <th></th>\n",
       "      <th>Unnamed: 0</th>\n",
       "      <th>Product url</th>\n",
       "      <th>Prodcut name</th>\n",
       "      <th>product Price</th>\n",
       "      <th>Rating</th>\n",
       "      <th>Number of reviews</th>\n",
       "    </tr>\n",
       "  </thead>\n",
       "  <tbody>\n",
       "    <tr>\n",
       "      <th>0</th>\n",
       "      <td>0</td>\n",
       "      <td>https://www.amazon.com/sspa/click?ie=UTF8&amp;spc=...</td>\n",
       "      <td>URBAN TRIBE Havana 15.6\" inch Laptop Backpack ...</td>\n",
       "      <td>₹1,169</td>\n",
       "      <td>3.9 out of 5 stars</td>\n",
       "      <td>684</td>\n",
       "    </tr>\n",
       "    <tr>\n",
       "      <th>1</th>\n",
       "      <td>1</td>\n",
       "      <td>https://www.amazon.com/sspa/click?ie=UTF8&amp;spc=...</td>\n",
       "      <td>Amazon Basics - Laptop Backpack/Casual Backpac...</td>\n",
       "      <td>₹1,209</td>\n",
       "      <td>1.0 out of 5 stars</td>\n",
       "      <td>1</td>\n",
       "    </tr>\n",
       "    <tr>\n",
       "      <th>2</th>\n",
       "      <td>2</td>\n",
       "      <td>https://www.amazon.com/American-Tourister-AMT-...</td>\n",
       "      <td>American Tourister 32 Ltrs Black Casual Backpa...</td>\n",
       "      <td>₹1,199</td>\n",
       "      <td>4.1 out of 5 stars</td>\n",
       "      <td>51,380</td>\n",
       "    </tr>\n",
       "    <tr>\n",
       "      <th>3</th>\n",
       "      <td>3</td>\n",
       "      <td>https://www.amazon.com/Wesley-Milestone-Waterp...</td>\n",
       "      <td>Wesley Milestone 2.0 Casual Waterproof Laptop ...</td>\n",
       "      <td>₹565</td>\n",
       "      <td>4.3 out of 5 stars</td>\n",
       "      <td>9,233</td>\n",
       "    </tr>\n",
       "    <tr>\n",
       "      <th>4</th>\n",
       "      <td>4</td>\n",
       "      <td>https://www.amazon.com/Skybags-Brat-Black-Casu...</td>\n",
       "      <td>Skybags Brat Black 46 Cms Casual Backpack</td>\n",
       "      <td>₹669</td>\n",
       "      <td>4.1 out of 5 stars</td>\n",
       "      <td>3,373</td>\n",
       "    </tr>\n",
       "  </tbody>\n",
       "</table>\n",
       "</div>"
      ],
      "text/plain": [
       "   Unnamed: 0                                        Product url  \\\n",
       "0           0  https://www.amazon.com/sspa/click?ie=UTF8&spc=...   \n",
       "1           1  https://www.amazon.com/sspa/click?ie=UTF8&spc=...   \n",
       "2           2  https://www.amazon.com/American-Tourister-AMT-...   \n",
       "3           3  https://www.amazon.com/Wesley-Milestone-Waterp...   \n",
       "4           4  https://www.amazon.com/Skybags-Brat-Black-Casu...   \n",
       "\n",
       "                                        Prodcut name product Price  \\\n",
       "0  URBAN TRIBE Havana 15.6\" inch Laptop Backpack ...        ₹1,169   \n",
       "1  Amazon Basics - Laptop Backpack/Casual Backpac...        ₹1,209   \n",
       "2  American Tourister 32 Ltrs Black Casual Backpa...        ₹1,199   \n",
       "3  Wesley Milestone 2.0 Casual Waterproof Laptop ...          ₹565   \n",
       "4          Skybags Brat Black 46 Cms Casual Backpack          ₹669   \n",
       "\n",
       "               Rating Number of reviews  \n",
       "0  3.9 out of 5 stars               684  \n",
       "1  1.0 out of 5 stars                 1  \n",
       "2  4.1 out of 5 stars            51,380  \n",
       "3  4.3 out of 5 stars             9,233  \n",
       "4  4.1 out of 5 stars             3,373  "
      ]
     },
     "execution_count": 57,
     "metadata": {},
     "output_type": "execute_result"
    }
   ],
   "source": [
    "## reading the output file\n",
    "recs=pd.read_csv('output.csv')\n",
    "recs.head()"
   ]
  },
  {
   "cell_type": "code",
   "execution_count": null,
   "metadata": {},
   "outputs": [],
   "source": []
  }
 ],
 "metadata": {
  "kernelspec": {
   "display_name": "Python 3",
   "language": "python",
   "name": "python3"
  },
  "language_info": {
   "codemirror_mode": {
    "name": "ipython",
    "version": 3
   },
   "file_extension": ".py",
   "mimetype": "text/x-python",
   "name": "python",
   "nbconvert_exporter": "python",
   "pygments_lexer": "ipython3",
   "version": "3.10.0"
  },
  "orig_nbformat": 4,
  "vscode": {
   "interpreter": {
    "hash": "213524bb45a1aeaf737b1d8c77d7b8db5d425938d9dffc5f4bc6fe6dd3324700"
   }
  }
 },
 "nbformat": 4,
 "nbformat_minor": 2
}
